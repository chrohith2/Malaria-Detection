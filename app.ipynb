{
 "cells": [
  {
   "cell_type": "code",
   "execution_count": 1,
   "id": "99f7eaaa-3bd4-4d14-ad83-a4870f4ee3d0",
   "metadata": {},
   "outputs": [],
   "source": [
    "# import tensorflow as tf\n",
    "# from tensorflow.keras.models import load_model\n",
    "# from tkinter import Tk, Label, Button, filedialog\n",
    "# from tkinter import *\n",
    "# from PIL import Image, ImageTk\n",
    "# import numpy as np\n",
    "\n",
    "import tensorflow as tf\n",
    "from tensorflow.keras import models, layers\n",
    "import matplotlib.pyplot as plt\n",
    "from sklearn.metrics import confusion_matrix, classification_report\n",
    "import seaborn as sns\n",
    "from keras.models import Sequential\n",
    "from tkinter import Tk, Label, Button, filedialog, ttk\n",
    "from tkinter import *\n",
    "from PIL import Image, ImageTk\n",
    "import numpy as np\n",
    "from keras.models import load_model"
   ]
  },
  {
   "cell_type": "code",
   "execution_count": 2,
   "id": "5733d42c-f4bb-45dc-a628-d591a02564d1",
   "metadata": {},
   "outputs": [],
   "source": [
    "# Load the trained model\n",
    "\n",
    "model = load_model(\"Malaria Model.keras\")\n",
    "image_folders = [\"Parasite\", \"Uninfected\"]  # Update this with your actual class names\n"
   ]
  },
  {
   "cell_type": "code",
   "execution_count": 3,
   "id": "1068bb27-0811-40b1-a4aa-0cfce5eed2b8",
   "metadata": {},
   "outputs": [],
   "source": [
    "# Define the predict function\n",
    "def predict(model, img):\n",
    "    img_array = tf.keras.preprocessing.image.img_to_array(img)\n",
    "    img_array = tf.expand_dims(img_array, 0)\n",
    "    predictions = model.predict(img_array)\n",
    "    predicted_class = image_folders[np.argmax(predictions[0])]\n",
    "    confidence = round(100 * (np.max(predictions[0])), 2)\n",
    "    return predicted_class, confidence\n"
   ]
  },
  {
   "cell_type": "code",
   "execution_count": 4,
   "id": "a56753c6-0d56-4dce-b2f8-d8f08bfb0939",
   "metadata": {},
   "outputs": [],
   "source": [
    "class MalariaDetectionApp:\n",
    "    def __init__(self, master):\n",
    "        self.master = master\n",
    "        master.title(\"Malaria Detection\")\n",
    "\n",
    "        style = ttk.Style()\n",
    "        style.configure(\"TButton\", font=(\"Helvetica\", 12), padding=10)\n",
    "        style.configure(\"TLabel\", font=(\"Helvetica\", 14), padding=10)\n",
    "        style.configure(\"TFrame\", padding=20, background=\"lightblue\")\n",
    "        style.map(\"TButton\",\n",
    "                  foreground=[('!active', 'black'), ('active', 'blue')],\n",
    "                  background=[('!active', 'light grey'), ('active', 'light blue')])\n",
    "\n",
    "        self.main_frame = ttk.Frame(master, style=\"TFrame\")\n",
    "        self.main_frame.pack(fill=BOTH, expand=TRUE)\n",
    "\n",
    "        self.label = ttk.Label(self.main_frame, text=\"Malaria Detection Model\", background=\"lightblue\")\n",
    "        self.label.pack(pady=20)\n",
    "\n",
    "        self.upload_button = ttk.Button(self.main_frame, text=\"Upload an Image\", command=self.upload_image, style=\"Upload.TButton\")\n",
    "        self.upload_button.pack(pady=10)\n",
    "\n",
    "        self.predict_button = ttk.Button(self.main_frame, text=\"Predict\", command=self.predict_image, state=DISABLED, style=\"Predict.TButton\")\n",
    "        self.predict_button.pack_forget()\n",
    "\n",
    "        self.result_label = ttk.Label(self.main_frame, text=\"\", background=\"lightblue\")\n",
    "        self.result_label.pack(pady=20)\n",
    "\n",
    "        self.image_label = ttk.Label(self.main_frame, background=\"lightblue\")\n",
    "        self.image_label.pack(pady=10)\n",
    "\n",
    "        self.filepath = None\n",
    "\n",
    "        # Custom styles for the buttons\n",
    "        style.configure(\"Upload.TButton\", font=(\"Helvetica\", 12), padding=10, background=\"light green\")\n",
    "        style.configure(\"Predict.TButton\", font=(\"Helvetica\", 12), padding=10, background=\"light coral\")\n",
    "\n",
    "        # Set the background color of the root window\n",
    "        master.configure(background=\"lightblue\")\n",
    "\n",
    "    def upload_image(self):\n",
    "        self.filepath = filedialog.askopenfilename()\n",
    "        if self.filepath:\n",
    "            img = Image.open(self.filepath)\n",
    "            img = img.resize((224, 224))  # Adjust to your image size\n",
    "            self.img = ImageTk.PhotoImage(img)\n",
    "            self.image_label.config(image=self.img)\n",
    "            self.predict_button.pack(pady=10)\n",
    "            self.predict_button.config(state=NORMAL)\n",
    "\n",
    "    def predict_image(self):\n",
    "        if self.filepath:\n",
    "            img = tf.keras.preprocessing.image.load_img(self.filepath, target_size=(224, 224))\n",
    "            predicted_class, confidence = predict(model, img)\n",
    "            self.result_label.config(text=f\"Predicted: {predicted_class} with {confidence}% confidence\")"
   ]
  },
  {
   "cell_type": "code",
   "execution_count": 5,
   "id": "30584d3c-422a-4862-85d2-333ae6263af5",
   "metadata": {},
   "outputs": [
    {
     "name": "stdout",
     "output_type": "stream",
     "text": [
      "\u001b[1m1/1\u001b[0m \u001b[32m━━━━━━━━━━━━━━━━━━━━\u001b[0m\u001b[37m\u001b[0m \u001b[1m0s\u001b[0m 233ms/step\n",
      "\u001b[1m1/1\u001b[0m \u001b[32m━━━━━━━━━━━━━━━━━━━━\u001b[0m\u001b[37m\u001b[0m \u001b[1m0s\u001b[0m 43ms/step\n",
      "\u001b[1m1/1\u001b[0m \u001b[32m━━━━━━━━━━━━━━━━━━━━\u001b[0m\u001b[37m\u001b[0m \u001b[1m0s\u001b[0m 44ms/step\n",
      "\u001b[1m1/1\u001b[0m \u001b[32m━━━━━━━━━━━━━━━━━━━━\u001b[0m\u001b[37m\u001b[0m \u001b[1m0s\u001b[0m 40ms/step\n",
      "\u001b[1m1/1\u001b[0m \u001b[32m━━━━━━━━━━━━━━━━━━━━\u001b[0m\u001b[37m\u001b[0m \u001b[1m0s\u001b[0m 43ms/step\n",
      "\u001b[1m1/1\u001b[0m \u001b[32m━━━━━━━━━━━━━━━━━━━━\u001b[0m\u001b[37m\u001b[0m \u001b[1m0s\u001b[0m 38ms/step\n",
      "\u001b[1m1/1\u001b[0m \u001b[32m━━━━━━━━━━━━━━━━━━━━\u001b[0m\u001b[37m\u001b[0m \u001b[1m0s\u001b[0m 44ms/step\n"
     ]
    }
   ],
   "source": [
    "# Run the application\n",
    "root = Tk()\n",
    "root.geometry(\"600x600\")\n",
    "app = MalariaDetectionApp(root)\n",
    "root.mainloop()"
   ]
  },
  {
   "cell_type": "code",
   "execution_count": null,
   "id": "aa0a3708-b90c-437e-97a4-753f46af3878",
   "metadata": {},
   "outputs": [],
   "source": []
  },
  {
   "cell_type": "code",
   "execution_count": null,
   "id": "e56a5f2e-4532-4753-8d17-6b22240c17bc",
   "metadata": {},
   "outputs": [],
   "source": []
  }
 ],
 "metadata": {
  "kernelspec": {
   "display_name": "Python 3 (ipykernel)",
   "language": "python",
   "name": "python3"
  },
  "language_info": {
   "codemirror_mode": {
    "name": "ipython",
    "version": 3
   },
   "file_extension": ".py",
   "mimetype": "text/x-python",
   "name": "python",
   "nbconvert_exporter": "python",
   "pygments_lexer": "ipython3",
   "version": "3.11.6"
  }
 },
 "nbformat": 4,
 "nbformat_minor": 5
}
